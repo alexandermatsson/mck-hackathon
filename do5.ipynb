{
 "cells": [
  {
   "cell_type": "markdown",
   "metadata": {},
   "source": [
    "# Import libraries"
   ]
  },
  {
   "cell_type": "code",
   "execution_count": 1,
   "metadata": {},
   "outputs": [
    {
     "name": "stderr",
     "output_type": "stream",
     "text": [
      "/home/j/anaconda3/lib/python3.6/site-packages/sklearn/cross_validation.py:41: DeprecationWarning: This module was deprecated in version 0.18 in favor of the model_selection module into which all the refactored classes and functions are moved. Also note that the interface of the new CV iterators are different from that of this module. This module will be removed in 0.20.\n",
      "  \"This module will be removed in 0.20.\", DeprecationWarning)\n"
     ]
    }
   ],
   "source": [
    "# basics :\n",
    "import pandas as pd\n",
    "import numpy as np\n",
    "from numpy import*\n",
    "import datetime\n",
    "\n",
    "# plot\n",
    "import matplotlib.pyplot as plt\n",
    "import seaborn as sns\n",
    "%matplotlib inline\n",
    "\n",
    "# impute and scale data\n",
    "from sklearn.preprocessing import StandardScaler\n",
    "from sklearn.preprocessing import Imputer\n",
    "# models\n",
    "from sklearn.tree import DecisionTreeClassifier\n",
    "from sklearn.linear_model import LogisticRegression\n",
    "from sklearn.neighbors import KNeighborsClassifier\n",
    "from sklearn.ensemble import GradientBoostingClassifier\n",
    "from sklearn.naive_bayes import GaussianNB\n",
    "from sklearn.svm import SVC\n",
    "# evaluation\n",
    "from sklearn.model_selection import GridSearchCV, RandomizedSearchCV\n",
    "from sklearn.cross_validation import train_test_split\n",
    "# metrics\n",
    "from sklearn import metrics\n",
    "from sklearn.metrics import classification_report, confusion_matrix, accuracy_score, roc_auc_score\n",
    "# save models\n",
    "from sklearn.externals import joblib"
   ]
  },
  {
   "cell_type": "markdown",
   "metadata": {},
   "source": [
    "# Read data"
   ]
  },
  {
   "cell_type": "code",
   "execution_count": 3,
   "metadata": {},
   "outputs": [],
   "source": [
    "dfm = pd.read_csv('train.csv', sep=\",\")\n",
    "dfp = pd.read_csv('test.csv', sep=\",\")\n",
    "df = pd.concat([dfm, dfp]) # I do not reset_index \n",
    "vardescr = pd.read_excel('case-intro/variabledescr.xlsx')\n",
    "\n",
    "vardescr.columns = vardescr.columns.str.lower()\n",
    "\n",
    "dataframes = [dfm, dfp, df]\n",
    "for d in dataframes:\n",
    "    d.columns = d.columns.str.lower()\n",
    "\n",
    "df['y'] = df['approved']\n",
    "dfm['y'] = dfm['approved']\n",
    "df.drop('approved', inplace=True, axis=1)\n",
    "dfm.drop('approved', inplace=True, axis=1)"
   ]
  },
  {
   "cell_type": "code",
   "execution_count": 4,
   "metadata": {},
   "outputs": [
    {
     "data": {
      "text/plain": [
       "((99750, 22), (69713, 22), (30037, 21))"
      ]
     },
     "execution_count": 4,
     "metadata": {},
     "output_type": "execute_result"
    }
   ],
   "source": [
    "df.shape, dfm.shape, dfp.shape"
   ]
  },
  {
   "cell_type": "code",
   "execution_count": 5,
   "metadata": {},
   "outputs": [
    {
     "data": {
      "text/plain": [
       "{'y'}"
      ]
     },
     "execution_count": 5,
     "metadata": {},
     "output_type": "execute_result"
    }
   ],
   "source": [
    "set(df.columns) - set(dfp.columns)"
   ]
  },
  {
   "cell_type": "markdown",
   "metadata": {},
   "source": [
    "# Inspect and clean"
   ]
  },
  {
   "cell_type": "code",
   "execution_count": 8,
   "metadata": {},
   "outputs": [
    {
     "name": "stdout",
     "output_type": "stream",
     "text": [
      "                                 column         type\n",
      "0                                    id       Object\n",
      "1                                gender      Boolean\n",
      "2                                   dob         Date\n",
      "3                    lead_creation_date         Date\n",
      "4                             city_code  Categorical\n",
      "5                         city_category  Categorical\n",
      "6                         employer_code  Categorical\n",
      "7                    employer_category1  Categorical\n",
      "8                    employer_category2  Categorical\n",
      "9                        monthly_income    Numerical\n",
      "10  customer_existing_primary_bank_code  Categorical\n",
      "11                    primary_bank_type      Boolean\n",
      "12                            contacted      Boolean\n",
      "13                               source  Categorical\n",
      "14                      source_category  Categorical\n",
      "15                         existing_emi    Numerical\n",
      "16                          loan_amount    Numerical\n",
      "17                          loan_period    Numerical\n",
      "18                        interest_rate    Numerical\n",
      "19                                  emi    Numerical\n",
      "20                                 var1  Categorical\n",
      "21                             approved            y\n"
     ]
    }
   ],
   "source": [
    "print(vardescr.loc[:, ['column', 'type']])"
   ]
  },
  {
   "cell_type": "code",
   "execution_count": 9,
   "metadata": {
    "collapsed": true
   },
   "outputs": [],
   "source": [
    "# infer dtype\n",
    "def getcoltype(type):\n",
    "    '''Input string of type. Output list of colnames with that type. \n",
    "    Types can be Numerical, Categorical, Boolean, Object\n",
    "    '''\n",
    "    return vardescr.loc[vardescr.type == type, 'column'].tolist()\n",
    "\n",
    "# save to list based on dtype\n",
    "cols_datetime = getcoltype('Date')\n",
    "cols_numeric = getcoltype('Numerical')\n",
    "cols_category = getcoltype('Categorical')\n",
    "cols_object = getcoltype('Object')\n",
    "cols_boolean = getcoltype('Boolean')"
   ]
  },
  {
   "cell_type": "code",
   "execution_count": 10,
   "metadata": {
    "collapsed": true
   },
   "outputs": [],
   "source": [
    "# convert categorical, numerical, datetime\n",
    "df[cols_numeric] = df[cols_numeric].apply(lambda x: pd.to_numeric(x))\n",
    "df[cols_datetime] = df[cols_datetime].apply(lambda x: pd.to_datetime(x))\n",
    "df[cols_category] = df[cols_category].apply(lambda x: x.astype('category'))"
   ]
  },
  {
   "cell_type": "code",
   "execution_count": 11,
   "metadata": {
    "collapsed": true
   },
   "outputs": [],
   "source": [
    "# convert booleans\n",
    "df['female'] = (df.gender == 'Female')\n",
    "df['primary_bank_type_G'] = (df.primary_bank_type == 'G')\n",
    "df['contacted'] = (df.contacted == 'Y')\n",
    "df.drop(['gender', 'primary_bank_type'], inplace = True, axis=1)\n",
    "cols_boolean = ['female', 'primary_bank_type_G', 'contacted']"
   ]
  },
  {
   "cell_type": "code",
   "execution_count": 12,
   "metadata": {
    "collapsed": true
   },
   "outputs": [],
   "source": [
    "# create age \n",
    "df['age'] = 2018 - df.dob.dt.year\n",
    "cols_numeric.append('age')"
   ]
  },
  {
   "cell_type": "code",
   "execution_count": 13,
   "metadata": {
    "collapsed": true
   },
   "outputs": [],
   "source": [
    "# based on descripe, fix age\n",
    "df.loc[df.age < 0, 'age'] = np.nan"
   ]
  },
  {
   "cell_type": "markdown",
   "metadata": {},
   "source": [
    "For both imputer and standardscaler the following is used: fit on `dfm`, use that fit to tranform `dfm`. Then use the same fit to transform `dfp`."
   ]
  },
  {
   "cell_type": "code",
   "execution_count": 14,
   "metadata": {
    "collapsed": true
   },
   "outputs": [],
   "source": [
    "# rows \n",
    "rows_train_csv = df['y'].notnull()\n",
    "rows_test_csv = ~rows_train_csv"
   ]
  },
  {
   "cell_type": "code",
   "execution_count": 15,
   "metadata": {
    "collapsed": true
   },
   "outputs": [],
   "source": [
    "# impute NA  for dfm and dfp\n",
    "imp = Imputer(missing_values='NaN', strategy='mean', axis=0)\n",
    "df.loc[rows_train_csv, cols_numeric] = imp.fit_transform(df.loc[rows_train_csv, cols_numeric])\n",
    "df.loc[rows_test_csv, cols_numeric] = imp.transform(df.loc[rows_test_csv, cols_numeric])"
   ]
  },
  {
   "cell_type": "code",
   "execution_count": 16,
   "metadata": {
    "collapsed": true
   },
   "outputs": [],
   "source": [
    "# standardize for dfm and dfp\n",
    "scaler = StandardScaler()\n",
    "df.loc[rows_train_csv, cols_numeric] = scaler.fit_transform(df.loc[rows_train_csv, cols_numeric])\n",
    "df.loc[rows_test_csv, cols_numeric] = scaler.transform(df.loc[rows_test_csv, cols_numeric])"
   ]
  },
  {
   "cell_type": "markdown",
   "metadata": {},
   "source": [
    "# Fit and predict "
   ]
  },
  {
   "cell_type": "code",
   "execution_count": 17,
   "metadata": {
    "collapsed": true
   },
   "outputs": [],
   "source": [
    "scoring = 'roc_auc'"
   ]
  },
  {
   "cell_type": "markdown",
   "metadata": {},
   "source": [
    "## Choose X cols"
   ]
  },
  {
   "cell_type": "markdown",
   "metadata": {},
   "source": [
    "List some options:"
   ]
  },
  {
   "cell_type": "code",
   "execution_count": 18,
   "metadata": {
    "collapsed": true
   },
   "outputs": [],
   "source": [
    "# ,'source',  and  'customer_existing_primary_bank_code' # has issues\n",
    "\n",
    "cols_0 = ['monthly_income', 'contacted',\n",
    "          'source_category',\n",
    "          'var1', 'female', 'primary_bank_type_G']\n",
    "\n",
    "# add a row\n",
    "cols_1 = ['monthly_income', 'contacted',\n",
    "          'source_category', 'var1', 'female', 'primary_bank_type_G',\n",
    "          'age', 'employer_category1', 'employer_category2'\n",
    "         ]\n",
    "\n",
    "# like 1 but add financial\n",
    "cols_1fin = ['monthly_income', 'contacted',\n",
    "          'source_category', 'var1', 'female', 'primary_bank_type_G',\n",
    "          'age', 'employer_category1', 'employer_category2'\n",
    "          , 'existing_emi', 'loan_amount', 'loan_period', 'interest_rate' #financial\n",
    "         ]\n",
    "\n",
    "# based on DecisionTree() .feature_importances_ in another .py file:\n",
    "cols_vip = ['monthly_income', 'existing_emi', 'interest_rate', 'loan_amount', 'age',\n",
    "       'var1_10', 'employer_category1_C', 'source_category_F',\n",
    "       'employer_category1_B', 'interest_rate']\n",
    "# cols_vip is sorted!"
   ]
  },
  {
   "cell_type": "code",
   "execution_count": 19,
   "metadata": {
    "collapsed": true
   },
   "outputs": [],
   "source": [
    "# choose cols !!!!!!!!!!!!!!!!!!!!!!!!!!!!!!!!!!!!\n",
    "cols_X = cols_1"
   ]
  },
  {
   "cell_type": "markdown",
   "metadata": {},
   "source": [
    "## Convert X categoricals to dummies"
   ]
  },
  {
   "cell_type": "code",
   "execution_count": 20,
   "metadata": {
    "collapsed": true
   },
   "outputs": [],
   "source": [
    "X = pd.get_dummies(df[cols_X], drop_first = True)"
   ]
  },
  {
   "cell_type": "code",
   "execution_count": 21,
   "metadata": {
    "collapsed": true
   },
   "outputs": [],
   "source": [
    "# nr of cols is same or larger \n",
    "assert df[cols_X].shape[1] <= X.shape[1]"
   ]
  },
  {
   "cell_type": "code",
   "execution_count": 22,
   "metadata": {
    "collapsed": true
   },
   "outputs": [],
   "source": [
    "# X variables for dfm dfp\n",
    "Xm = X[rows_train_csv]\n",
    "Xp = X[rows_test_csv]\n",
    "\n",
    "# y variables for dfm dfp and df\n",
    "ym = df.loc[rows_train_csv, 'y']\n",
    "yp = df.loc[rows_test_csv, 'y']\n",
    "y = df['y']\n",
    "\n",
    "# assert \n",
    "assert X.shape[0] == y.shape[0]\n",
    "assert Xm.shape[0] + Xp.shape[0] == X.shape[0] # rows add upp \n",
    "assert Xm.shape[1] == Xp.shape[1] == X.shape[1] # same nr of cols"
   ]
  },
  {
   "cell_type": "markdown",
   "metadata": {},
   "source": [
    "## Fit on X_train predict on X_test get roc auc score"
   ]
  },
  {
   "cell_type": "code",
   "execution_count": 23,
   "metadata": {
    "collapsed": true
   },
   "outputs": [],
   "source": [
    "# split \n",
    "X_train, X_test, y_train, y_test = train_test_split(Xm, ym, test_size=0.20, random_state=9)"
   ]
  },
  {
   "cell_type": "code",
   "execution_count": 24,
   "metadata": {
    "collapsed": true
   },
   "outputs": [],
   "source": [
    "# fit \n",
    "clf = GradientBoostingClassifier() # good roc auc"
   ]
  },
  {
   "cell_type": "code",
   "execution_count": 25,
   "metadata": {},
   "outputs": [
    {
     "data": {
      "text/plain": [
       "GradientBoostingClassifier(criterion='friedman_mse', init=None,\n",
       "              learning_rate=0.1, loss='deviance', max_depth=3,\n",
       "              max_features=None, max_leaf_nodes=None,\n",
       "              min_impurity_decrease=0.0, min_impurity_split=None,\n",
       "              min_samples_leaf=1, min_samples_split=2,\n",
       "              min_weight_fraction_leaf=0.0, n_estimators=100,\n",
       "              presort='auto', random_state=None, subsample=1.0, verbose=0,\n",
       "              warm_start=False)"
      ]
     },
     "execution_count": 25,
     "metadata": {},
     "output_type": "execute_result"
    }
   ],
   "source": [
    "clf.fit(X_train, y_train)"
   ]
  },
  {
   "cell_type": "code",
   "execution_count": 26,
   "metadata": {
    "collapsed": true
   },
   "outputs": [],
   "source": [
    "# predict\n",
    "y_pred_proba = clf.predict_proba(X_test)[:, 1]\n",
    "#y_pred_class = clf.predict(X_test)"
   ]
  },
  {
   "cell_type": "code",
   "execution_count": 27,
   "metadata": {},
   "outputs": [
    {
     "data": {
      "text/plain": [
       "0.81778214617737444"
      ]
     },
     "execution_count": 27,
     "metadata": {},
     "output_type": "execute_result"
    }
   ],
   "source": [
    "roc_auc_score(y_test, y_pred_proba)\n",
    "# 0.81778214617737444 with fit on X_train and test on y_test"
   ]
  },
  {
   "cell_type": "markdown",
   "metadata": {},
   "source": [
    "## Fit on Xm and predict on Xp\n",
    "\n",
    "Refit on entire Xm rather than only X_train improves estimation"
   ]
  },
  {
   "cell_type": "code",
   "execution_count": 35,
   "metadata": {
    "collapsed": true
   },
   "outputs": [],
   "source": [
    "clf.fit(Xm, ym)\n",
    "y_pred_proba_submit = clf.predict_proba(Xp)[:, 1]"
   ]
  },
  {
   "cell_type": "markdown",
   "metadata": {},
   "source": [
    "# Submit \n",
    "\n",
    "rule: no NA in submission. rule: range is 0 to 1: min >= 0 max <= 1"
   ]
  },
  {
   "cell_type": "code",
   "execution_count": 36,
   "metadata": {},
   "outputs": [],
   "source": [
    "test = pd.read_csv('test.csv')\n",
    "pd.DataFrame({'ID':test['ID'], \n",
    "              'Approved':y_pred_proba_submit}\n",
    "            ).set_index('ID').to_csv('submissions/submit.csv')"
   ]
  },
  {
   "cell_type": "markdown",
   "metadata": {},
   "source": [
    "# Todo in the future"
   ]
  },
  {
   "cell_type": "markdown",
   "metadata": {},
   "source": [
    "see do5todo.md"
   ]
  },
  {
   "cell_type": "markdown",
   "metadata": {},
   "source": [
    "# Things that did not improve model performance"
   ]
  },
  {
   "cell_type": "markdown",
   "metadata": {},
   "source": [
    "A list of attempts that did not improve the model performance wrt roc_auc\n",
    "\n",
    "- A) impute most frequent rather than mean\n",
    "- B) Grid search cv to tune my DecisionTree - the defaults were best\n",
    "- C) Different classifiers: logistic regression, knn, random forests, \n",
    "- D) Using different classifiers with voting"
   ]
  },
  {
   "cell_type": "markdown",
   "metadata": {},
   "source": [
    "## D) Voting"
   ]
  },
  {
   "cell_type": "code",
   "execution_count": null,
   "metadata": {
    "collapsed": true
   },
   "outputs": [],
   "source": [
    "clf_list = [DecisionTreeClassifier(),\n",
    "            LogisticRegression(),\n",
    "            KNeighborsClassifier(),\n",
    "            GaussianNB(),\n",
    "            SVC()]\n",
    "\n",
    "eclf = VotingClassifier(estimators=[('a', clf_list[0]), \n",
    "                                    ('b', clf_list[1]), \n",
    "                                    ('c', clf_list[2])\n",
    "                                   ]\n",
    "                        , voting='soft')\n",
    "\n",
    "eclf = eclf.fit(X_train, y_train)\n",
    "\n",
    "print(roc_auc_score(y_test, eclf.predict_proba(X_test)[:, 1]))\n",
    "# had .79 AUC for y_test"
   ]
  },
  {
   "cell_type": "markdown",
   "metadata": {},
   "source": [
    "## B) cross validation using hyperparameters"
   ]
  },
  {
   "cell_type": "markdown",
   "metadata": {},
   "source": [
    "## change threshold"
   ]
  },
  {
   "cell_type": "code",
   "execution_count": 37,
   "metadata": {
    "collapsed": true
   },
   "outputs": [],
   "source": [
    "from sklearn.metrics import f1_score"
   ]
  },
  {
   "cell_type": "code",
   "execution_count": 39,
   "metadata": {},
   "outputs": [
    {
     "name": "stdout",
     "output_type": "stream",
     "text": [
      "0.0 %\n",
      "0.032\n",
      "0.256170345056 %\n",
      "0.047\n",
      "0.512996922568 %\n",
      "0.054\n",
      "0.77048141361 %\n",
      "0.064\n",
      "1.02862550356 %\n",
      "0.071\n",
      "1.28743088212 %\n",
      "0.076\n",
      "1.54689924331 %\n",
      "0.083\n",
      "1.80703228549 %\n",
      "0.087\n",
      "2.06783171139 %\n",
      "0.09\n",
      "2.32929922808 %\n",
      "0.095\n"
     ]
    }
   ],
   "source": [
    "thresh = np.logspace(0, .01, 10)-1\n",
    "\n",
    "list_score = []\n",
    "\n",
    "for th in thresh:\n",
    "    print(th*100, \"%\")\n",
    "    y_pred_classed = y_pred_proba > th\n",
    "    #print(confusion_matrix(y_test, y_pred_classed))\n",
    "    score = f1_score(y_test, y_pred_classed)\n",
    "    print(score.round(3))\n",
    "    list_score.append(score)"
   ]
  },
  {
   "cell_type": "code",
   "execution_count": 54,
   "metadata": {},
   "outputs": [
    {
     "data": {
      "image/png": "[encoded data removed]",
      "text/plain": [
       "<matplotlib.figure.Figure at 0x7f54417833c8>"
      ]
     },
     "metadata": {},
     "output_type": "display_data"
    }
   ],
   "source": [
    "plt.plot(thresh, list_score)\n",
    "plt.xlabel('Threshold')\n",
    "plt.ylabel('Score')\n",
    "plt.show()"
   ]
  },
  {
   "cell_type": "markdown",
   "metadata": {},
   "source": [
    "## Grid search cv"
   ]
  },
  {
   "cell_type": "code",
   "execution_count": 55,
   "metadata": {},
   "outputs": [
    {
     "data": {
      "text/plain": [
       "(0.82138980483717083, {'max_depth': 3, 'max_features': 'sqrt'})"
      ]
     },
     "execution_count": 55,
     "metadata": {},
     "output_type": "execute_result"
    }
   ],
   "source": [
    "param_grid = {\n",
    "    'max_features':(None, 'sqrt')\n",
    "    ,'max_depth':(None, 3, 6)\n",
    "    #,'min_samples_split':(2,4,8)\n",
    "    #,'min_samples_leaf':(4, 12, 16)\n",
    "}\n",
    " \n",
    "cv = GridSearchCV(clf, param_grid, cv=4, n_jobs=-1, scoring='roc_auc')\n",
    "cv.fit(X_train, y_train)\n",
    " \n",
    "\n",
    "cv.best_score_, cv.best_params_\n",
    "# output:\n",
    "# (0.82888870910162371, {'max_depth': 3, 'max_features': None})"
   ]
  },
  {
   "cell_type": "markdown",
   "metadata": {},
   "source": [
    "# xgboost"
   ]
  },
  {
   "cell_type": "code",
   "execution_count": null,
   "metadata": {
    "collapsed": true
   },
   "outputs": [],
   "source": [
    "import xgboost as xgb\n",
    "from sklearn.grid_search import GridSearchCV\n",
    "\n",
    "xg_cl = xgb.XGBClassifier(objective='binary:logistic', n_estimators=10, seed=9)\n",
    "xg_cl.fit(X_train, y_train)\n",
    "xgb_pred = xg_cl.predict_proba(X_test)\n",
    "\n",
    "cv_params = {'max_depth': [3,5], 'min_child_weight': [1,3]}\n",
    "ind_params = {'learning_rate': 0.1, 'n_estimators': 1000,\n",
    "              'seed':0, 'subsample': 0.8, 'colsample_bytree': 0.8,\n",
    "             'objective': 'binary:logistic'}\n",
    "optimized_GBM = GridSearchCV(xgb.XGBClassifier(**ind_params),\n",
    "                            cv_params,\n",
    "                             scoring = 'roc_auc', cv = 5, n_jobs = -1)"
   ]
  },
  {
   "cell_type": "markdown",
   "metadata": {},
   "source": [
    "..."
   ]
  },
  {
   "cell_type": "markdown",
   "metadata": {},
   "source": [
    "..."
   ]
  },
  {
   "cell_type": "markdown",
   "metadata": {},
   "source": [
    "..."
   ]
  },
  {
   "cell_type": "markdown",
   "metadata": {},
   "source": [
    "..."
   ]
  },
  {
   "cell_type": "markdown",
   "metadata": {},
   "source": [
    "..."
   ]
  },
  {
   "cell_type": "markdown",
   "metadata": {},
   "source": [
    "# Exploratory data analysis\n",
    "\n",
    "Below is an exploration of the dataset. In order to create a predictive model it is useful to understand the dataset."
   ]
  },
  {
   "cell_type": "markdown",
   "metadata": {},
   "source": [
    "## Frequency tables"
   ]
  },
  {
   "cell_type": "markdown",
   "metadata": {},
   "source": [
    "* Boolean: mean\n",
    "* Numeric: describe\n",
    "* Categorical: freqs"
   ]
  },
  {
   "cell_type": "markdown",
   "metadata": {},
   "source": [
    "### Boolean columns\n",
    "\n",
    "Use mean"
   ]
  },
  {
   "cell_type": "code",
   "execution_count": 15,
   "metadata": {},
   "outputs": [
    {
     "data": {
      "text/plain": [
       "female                 42.695050\n",
       "primary_bank_type_G    29.697474\n",
       "contacted              64.944845\n",
       "dtype: float64"
      ]
     },
     "execution_count": 15,
     "metadata": {},
     "output_type": "execute_result"
    }
   ],
   "source": [
    "df[cols_boolean].mean()*100"
   ]
  },
  {
   "cell_type": "markdown",
   "metadata": {},
   "source": [
    "### Numercal columns\n",
    "\n",
    "Use describe and boxplot"
   ]
  },
  {
   "cell_type": "code",
   "execution_count": 16,
   "metadata": {},
   "outputs": [
    {
     "data": {
      "text/html": [
       "<div>\n",
       "<style>\n",
       "    .dataframe thead tr:only-child th {\n",
       "        text-align: right;\n",
       "    }\n",
       "\n",
       "    .dataframe thead th {\n",
       "        text-align: left;\n",
       "    }\n",
       "\n",
       "    .dataframe tbody tr th {\n",
       "        vertical-align: top;\n",
       "    }\n",
       "</style>\n",
       "<table border=\"1\" class=\"dataframe\">\n",
       "  <thead>\n",
       "    <tr style=\"text-align: right;\">\n",
       "      <th></th>\n",
       "      <th>monthly_income</th>\n",
       "      <th>existing_emi</th>\n",
       "      <th>loan_amount</th>\n",
       "      <th>loan_period</th>\n",
       "      <th>interest_rate</th>\n",
       "      <th>emi</th>\n",
       "      <th>age</th>\n",
       "    </tr>\n",
       "  </thead>\n",
       "  <tbody>\n",
       "    <tr>\n",
       "      <th>count</th>\n",
       "      <td>69713.0</td>\n",
       "      <td>69662.0</td>\n",
       "      <td>42004.0</td>\n",
       "      <td>42004.0</td>\n",
       "      <td>22276.0</td>\n",
       "      <td>22276.0</td>\n",
       "      <td>69698.0</td>\n",
       "    </tr>\n",
       "    <tr>\n",
       "      <th>mean</th>\n",
       "      <td>5622.3</td>\n",
       "      <td>360.9</td>\n",
       "      <td>39430.0</td>\n",
       "      <td>3.9</td>\n",
       "      <td>19.2</td>\n",
       "      <td>1101.5</td>\n",
       "      <td>29.4</td>\n",
       "    </tr>\n",
       "    <tr>\n",
       "      <th>std</th>\n",
       "      <td>174767.1</td>\n",
       "      <td>2288.5</td>\n",
       "      <td>30727.6</td>\n",
       "      <td>1.2</td>\n",
       "      <td>5.8</td>\n",
       "      <td>752.7</td>\n",
       "      <td>14.9</td>\n",
       "    </tr>\n",
       "    <tr>\n",
       "      <th>min</th>\n",
       "      <td>0.0</td>\n",
       "      <td>0.0</td>\n",
       "      <td>5000.0</td>\n",
       "      <td>1.0</td>\n",
       "      <td>12.0</td>\n",
       "      <td>118.0</td>\n",
       "      <td>-49.0</td>\n",
       "    </tr>\n",
       "    <tr>\n",
       "      <th>25%</th>\n",
       "      <td>1650.0</td>\n",
       "      <td>0.0</td>\n",
       "      <td>20000.0</td>\n",
       "      <td>3.0</td>\n",
       "      <td>15.2</td>\n",
       "      <td>649.0</td>\n",
       "      <td>28.0</td>\n",
       "    </tr>\n",
       "    <tr>\n",
       "      <th>50%</th>\n",
       "      <td>2500.0</td>\n",
       "      <td>0.0</td>\n",
       "      <td>30000.0</td>\n",
       "      <td>4.0</td>\n",
       "      <td>18.0</td>\n",
       "      <td>941.0</td>\n",
       "      <td>31.0</td>\n",
       "    </tr>\n",
       "    <tr>\n",
       "      <th>75%</th>\n",
       "      <td>4000.0</td>\n",
       "      <td>350.0</td>\n",
       "      <td>50000.0</td>\n",
       "      <td>5.0</td>\n",
       "      <td>20.0</td>\n",
       "      <td>1295.0</td>\n",
       "      <td>35.0</td>\n",
       "    </tr>\n",
       "    <tr>\n",
       "      <th>max</th>\n",
       "      <td>38383838.3</td>\n",
       "      <td>545436.5</td>\n",
       "      <td>300000.0</td>\n",
       "      <td>6.0</td>\n",
       "      <td>37.0</td>\n",
       "      <td>13556.0</td>\n",
       "      <td>50.0</td>\n",
       "    </tr>\n",
       "  </tbody>\n",
       "</table>\n",
       "</div>"
      ],
      "text/plain": [
       "       monthly_income  existing_emi  loan_amount  loan_period  interest_rate  \\\n",
       "count         69713.0       69662.0      42004.0      42004.0        22276.0   \n",
       "mean           5622.3         360.9      39430.0          3.9           19.2   \n",
       "std          174767.1        2288.5      30727.6          1.2            5.8   \n",
       "min               0.0           0.0       5000.0          1.0           12.0   \n",
       "25%            1650.0           0.0      20000.0          3.0           15.2   \n",
       "50%            2500.0           0.0      30000.0          4.0           18.0   \n",
       "75%            4000.0         350.0      50000.0          5.0           20.0   \n",
       "max        38383838.3      545436.5     300000.0          6.0           37.0   \n",
       "\n",
       "           emi      age  \n",
       "count  22276.0  69698.0  \n",
       "mean    1101.5     29.4  \n",
       "std      752.7     14.9  \n",
       "min      118.0    -49.0  \n",
       "25%      649.0     28.0  \n",
       "50%      941.0     31.0  \n",
       "75%     1295.0     35.0  \n",
       "max    13556.0     50.0  "
      ]
     },
     "execution_count": 16,
     "metadata": {},
     "output_type": "execute_result"
    }
   ],
   "source": [
    "df[cols_numeric].describe().round(1)"
   ]
  },
  {
   "cell_type": "markdown",
   "metadata": {},
   "source": [
    "Conclusion: Must change age to be positive. "
   ]
  },
  {
   "cell_type": "code",
   "execution_count": 56,
   "metadata": {},
   "outputs": [
    {
     "data": {
      "text/plain": [
       "<matplotlib.axes._subplots.AxesSubplot at 0x7f54412f1b38>"
      ]
     },
     "execution_count": 56,
     "metadata": {},
     "output_type": "execute_result"
    },
    {
     "data": {
      "image/png": "[encoded data removed]",
      "text/plain": [
       "<matplotlib.figure.Figure at 0x7f5442df29e8>"
      ]
     },
     "metadata": {},
     "output_type": "display_data"
    }
   ],
   "source": [
    "df[df.age>0].age.plot.box()"
   ]
  },
  {
   "cell_type": "markdown",
   "metadata": {},
   "source": [
    "Below, the numeric columns are standardized."
   ]
  },
  {
   "cell_type": "code",
   "execution_count": 57,
   "metadata": {},
   "outputs": [
    {
     "ename": "AssertionError",
     "evalue": "",
     "output_type": "error",
     "traceback": [
      "\u001b[0;31m---------------------------------------------------------------------------\u001b[0m",
      "\u001b[0;31mAssertionError\u001b[0m                            Traceback (most recent call last)",
      "\u001b[0;32m<ipython-input-57-b95dd2e91fb8>\u001b[0m in \u001b[0;36m<module>\u001b[0;34m()\u001b[0m\n\u001b[1;32m      1\u001b[0m \u001b[0;31m# select numerical columns and standardize them\u001b[0m\u001b[0;34m\u001b[0m\u001b[0;34m\u001b[0m\u001b[0m\n\u001b[0;32m----> 2\u001b[0;31m \u001b[0;32massert\u001b[0m \u001b[0mcols_numeric\u001b[0m \u001b[0;34m==\u001b[0m \u001b[0mdf\u001b[0m\u001b[0;34m.\u001b[0m\u001b[0mcolumns\u001b[0m\u001b[0;34m[\u001b[0m\u001b[0mdf\u001b[0m\u001b[0;34m.\u001b[0m\u001b[0mdtypes\u001b[0m \u001b[0;34m==\u001b[0m \u001b[0;34m'float64'\u001b[0m\u001b[0;34m]\u001b[0m\u001b[0;34m.\u001b[0m\u001b[0mtolist\u001b[0m\u001b[0;34m(\u001b[0m\u001b[0;34m)\u001b[0m\u001b[0;34m\u001b[0m\u001b[0m\n\u001b[0m\u001b[1;32m      3\u001b[0m \u001b[0;34m\u001b[0m\u001b[0m\n\u001b[1;32m      4\u001b[0m \u001b[0mdf\u001b[0m\u001b[0;34m[\u001b[0m\u001b[0mcols_numeric\u001b[0m\u001b[0;34m]\u001b[0m\u001b[0;34m.\u001b[0m\u001b[0mapply\u001b[0m\u001b[0;34m(\u001b[0m\u001b[0;32mlambda\u001b[0m \u001b[0mx\u001b[0m\u001b[0;34m:\u001b[0m \u001b[0;34m(\u001b[0m\u001b[0mx\u001b[0m \u001b[0;34m-\u001b[0m \u001b[0mx\u001b[0m\u001b[0;34m.\u001b[0m\u001b[0mmean\u001b[0m\u001b[0;34m(\u001b[0m\u001b[0;34m)\u001b[0m\u001b[0;34m)\u001b[0m\u001b[0;34m/\u001b[0m\u001b[0mx\u001b[0m\u001b[0;34m.\u001b[0m\u001b[0mstd\u001b[0m\u001b[0;34m(\u001b[0m\u001b[0;34m)\u001b[0m\u001b[0;34m)\u001b[0m\u001b[0;34m.\u001b[0m\u001b[0mdescribe\u001b[0m\u001b[0;34m(\u001b[0m\u001b[0;34m)\u001b[0m\u001b[0;34m.\u001b[0m\u001b[0mround\u001b[0m\u001b[0;34m(\u001b[0m\u001b[0;36m2\u001b[0m\u001b[0;34m)\u001b[0m\u001b[0;34m\u001b[0m\u001b[0m\n",
      "\u001b[0;31mAssertionError\u001b[0m: "
     ]
    }
   ],
   "source": [
    "# select numerical columns and standardize them\n",
    "assert cols_numeric == df.columns[df.dtypes == 'float64'].tolist()\n",
    "\n",
    "df[cols_numeric].apply(lambda x: (x - x.mean())/x.std()).describe().round(2) "
   ]
  },
  {
   "cell_type": "code",
   "execution_count": 20,
   "metadata": {},
   "outputs": [
    {
     "data": {
      "image/png": "[encoded data removed]",
      "text/plain": [
       "<matplotlib.figure.Figure at 0x7f3c29062898>"
      ]
     },
     "metadata": {},
     "output_type": "display_data"
    },
    {
     "data": {
      "image/png": "[encoded data removed]",
      "text/plain": [
       "<matplotlib.figure.Figure at 0x7f3c290758d0>"
      ]
     },
     "metadata": {},
     "output_type": "display_data"
    },
    {
     "data": {
      "image/png": "[encoded data removed]",
      "text/plain": [
       "<matplotlib.figure.Figure at 0x7f3c28fa9f28>"
      ]
     },
     "metadata": {},
     "output_type": "display_data"
    },
    {
     "data": {
      "image/png": "[encoded data removed]",
      "text/plain": [
       "<matplotlib.figure.Figure at 0x7f3c28f15e48>"
      ]
     },
     "metadata": {},
     "output_type": "display_data"
    },
    {
     "data": {
      "image/png": "[encoded data removed]",
      "text/plain": [
       "<matplotlib.figure.Figure at 0x7f3c28ee77b8>"
      ]
     },
     "metadata": {},
     "output_type": "display_data"
    },
    {
     "data": {
      "image/png": "[encoded data removed]",
      "text/plain": [
       "<matplotlib.figure.Figure at 0x7f3c28e2cb00>"
      ]
     },
     "metadata": {},
     "output_type": "display_data"
    },
    {
     "data": {
      "image/png": "[encoded data removed]",
      "text/plain": [
       "<matplotlib.figure.Figure at 0x7f3c28e273c8>"
      ]
     },
     "metadata": {},
     "output_type": "display_data"
    }
   ],
   "source": [
    "for col in cols_numeric:\n",
    "    df[col].plot.box()\n",
    "    plt.show()"
   ]
  },
  {
   "cell_type": "markdown",
   "metadata": {},
   "source": [
    "qq how to handle outliers in emi and monthly income? logreg will be affected by them. maybe truncate with an upper value. \n",
    "\n",
    "qq if you us emonthly income then definately use truncate or somehting similar. "
   ]
  },
  {
   "cell_type": "markdown",
   "metadata": {},
   "source": [
    "### Categorical columns\n",
    "\n",
    "Use freqs"
   ]
  },
  {
   "cell_type": "code",
   "execution_count": 21,
   "metadata": {},
   "outputs": [
    {
     "name": "stdout",
     "output_type": "stream",
     "text": [
      "city_code\n",
      "nr unique: 678\n",
      "frequency (%)\n",
      "C10001    14.524159\n",
      "C10002    12.650401\n",
      "C10003    12.577831\n",
      "C10004     8.480529\n",
      "C10005     8.075589\n",
      "C10006     6.100234\n",
      "C10007     3.339671\n",
      "C10008     2.104530\n",
      "C10009     1.532678\n",
      "C10010     1.396247\n",
      "Name: city_code, dtype: float64 \n",
      "\n",
      "None\n",
      "city_category\n",
      "nr unique: 3\n",
      "frequency (%)\n",
      "A    72.403083\n",
      "C    16.972670\n",
      "B    10.624247\n",
      "Name: city_category, dtype: float64 \n",
      "\n",
      "None\n",
      "employer_code\n",
      "nr unique: 36617\n",
      "frequency (%)\n",
      "COM0000002    0.695639\n",
      "COM0000003    0.493188\n",
      "COM0000004    0.398813\n",
      "COM0000005    0.369891\n",
      "COM0000006    0.296826\n",
      "COM0000007    0.287693\n",
      "COM0000009    0.232894\n",
      "COM0000010    0.220717\n",
      "COM0000013    0.202451\n",
      "COM0000012    0.200929\n",
      "Name: employer_code, dtype: float64 \n",
      "\n",
      "None\n",
      "employer_category1\n",
      "nr unique: 3\n",
      "frequency (%)\n",
      "A    50.743588\n",
      "B    27.484588\n",
      "C    21.771824\n",
      "Name: employer_category1, dtype: float64 \n",
      "\n",
      "None\n",
      "employer_category2\n",
      "nr unique: 4\n",
      "frequency (%)\n",
      "4.0    88.025682\n",
      "1.0     6.509210\n",
      "2.0     2.988611\n",
      "3.0     2.476496\n",
      "Name: employer_category2, dtype: float64 \n",
      "\n",
      "None\n",
      "customer_existing_primary_bank_code\n",
      "nr unique: 57\n",
      "frequency (%)\n",
      "B001    23.535360\n",
      "B002    18.036537\n",
      "B003    15.773681\n",
      "B004    11.720434\n",
      "B005     3.182918\n",
      "B006     2.755214\n",
      "B007     2.053977\n",
      "B008     1.566593\n",
      "B009     1.559962\n",
      "B010     1.525148\n",
      "Name: customer_existing_primary_bank_code, dtype: float64 \n",
      "\n",
      "None\n",
      "source\n",
      "nr unique: 29\n",
      "frequency (%)\n",
      "S122    44.383401\n",
      "S133    34.250427\n",
      "S159     6.417741\n",
      "S143     4.991895\n",
      "S127     2.217664\n",
      "S137     2.008234\n",
      "S134     1.503306\n",
      "S161     0.890795\n",
      "S151     0.816204\n",
      "S157     0.727268\n",
      "Name: source, dtype: float64 \n",
      "\n",
      "None\n",
      "source_category\n",
      "nr unique: 7\n",
      "frequency (%)\n",
      "B    42.763903\n",
      "G    38.038816\n",
      "C    16.315465\n",
      "E     1.506175\n",
      "D     0.712923\n",
      "F     0.658414\n",
      "A     0.004303\n",
      "Name: source_category, dtype: float64 \n",
      "\n",
      "None\n",
      "var1\n",
      "nr unique: 5\n",
      "frequency (%)\n",
      "0     33.434223\n",
      "10    19.250355\n",
      "2     19.168591\n",
      "7     17.138841\n",
      "4     11.007990\n",
      "Name: var1, dtype: float64 \n",
      "\n",
      "None\n"
     ]
    }
   ],
   "source": [
    "# selec categorical cols and display freqs\n",
    "for col in cols_category:\n",
    "    print(freqs(df[col]))"
   ]
  },
  {
   "cell_type": "markdown",
   "metadata": {},
   "source": [
    "Conclusions:\n",
    "\n",
    "city_code's top 3 cities have 14+12+12 percent.\n",
    "\n",
    "city_category has 3 unique values. A is 72%\n",
    "\n",
    "employer_code has too many uniwue. Not useful. Top frequency is < 1%. Don't use in modelling.\n",
    "\n",
    "customer_existing_primary_bank_code's top 3 have 23+18+15 percent. 57 unique.\n",
    "qq don't understand relation between this and primary_bank_type_g\n",
    "\n",
    "source and source_category:\n",
    "* are related. \n",
    "* source has 29 unque (with top 3 having 44+34+6 for S122+S133+S159), \n",
    "* source_category has 7 unique (with to 3 having 42+38+16 for B+G+C).\n",
    "* To get actionable insight maybe source is useful - a marketer can then be more targeted. However, these two variables are probably correlated. \n",
    "*  Try using either one or the other. Using both is probably not good. 29 categories bind up many degrees of freedom. \n",
    "* Use df groupby ['source_category', 'source'].size() to understand this better. \n",
    "\n",
    "var1 is a secret variable with 5 unique values and have low class imbalance."
   ]
  },
  {
   "cell_type": "code",
   "execution_count": null,
   "metadata": {
    "collapsed": true
   },
   "outputs": [],
   "source": [
    "cols_toomanyunique = ['city_code', 'employer_code']"
   ]
  },
  {
   "cell_type": "code",
   "execution_count": null,
   "metadata": {},
   "outputs": [],
   "source": [
    "# df.groupby(['source_category', 'source']).size()\n",
    "# conclusion: they are not as correlated as I thought \n",
    "# they don't measure the same thing because S122 show up in every source_category except A. \n",
    "# => can use both in a model"
   ]
  },
  {
   "cell_type": "code",
   "execution_count": null,
   "metadata": {},
   "outputs": [],
   "source": [
    "source_top = ['S122', 'S133']\n",
    "df[df.source.isin(source_top)].groupby(['source', 'source_category']).size()\n",
    "# conclusion: s122 has mostly B and G. s133 has mostly b and c."
   ]
  },
  {
   "cell_type": "markdown",
   "metadata": {
    "collapsed": true
   },
   "source": [
    "### Date columns"
   ]
  },
  {
   "cell_type": "code",
   "execution_count": 25,
   "metadata": {},
   "outputs": [
    {
     "data": {
      "text/plain": [
       "<matplotlib.axes._subplots.AxesSubplot at 0x7f3c28d976d8>"
      ]
     },
     "execution_count": 25,
     "metadata": {},
     "output_type": "execute_result"
    },
    {
     "data": {
      "image/png": "[encoded data removed]",
      "text/plain": [
       "<matplotlib.figure.Figure at 0x7f3c2ba262b0>"
      ]
     },
     "metadata": {},
     "output_type": "display_data"
    }
   ],
   "source": [
    "df['lead_creation_date'].dt.month.plot(kind='hist')\n",
    "# concl: mostly months 7,8,9"
   ]
  },
  {
   "cell_type": "code",
   "execution_count": 26,
   "metadata": {
    "collapsed": true
   },
   "outputs": [],
   "source": [
    "# only year 2016\n",
    "assert (df['lead_creation_date'].dt.year != 2016).sum() == 0"
   ]
  },
  {
   "cell_type": "markdown",
   "metadata": {},
   "source": [
    "## NA "
   ]
  },
  {
   "cell_type": "code",
   "execution_count": 27,
   "metadata": {},
   "outputs": [
    {
     "data": {
      "text/plain": [
       "12.335156077585149"
      ]
     },
     "execution_count": 27,
     "metadata": {},
     "output_type": "execute_result"
    }
   ],
   "source": [
    "# how many NA?\n",
    "total_na = df.isnull().sum().sum()\n",
    "total_cells =  df.count().sum()\n",
    "total_na / total_cells * 100"
   ]
  },
  {
   "cell_type": "code",
   "execution_count": 28,
   "metadata": {},
   "outputs": [
    {
     "name": "stdout",
     "output_type": "stream",
     "text": [
      "fraction of NA per column:\n"
     ]
    },
    {
     "data": {
      "text/plain": [
       "<matplotlib.axes._subplots.AxesSubplot at 0x7f3c2adbb588>"
      ]
     },
     "execution_count": 28,
     "metadata": {},
     "output_type": "execute_result"
    },
    {
     "data": {
      "image/png": "[encoded data removed]",
      "text/plain": [
       "<matplotlib.figure.Figure at 0x7f3c28d63748>"
      ]
     },
     "metadata": {},
     "output_type": "display_data"
    }
   ],
   "source": [
    "# fraction of NA per column\n",
    "n = df.shape[0]\n",
    "print(\"fraction of NA per column:\")\n",
    "(df.isnull().sum().sort_values(ascending=True) / n).plot.barh()"
   ]
  },
  {
   "cell_type": "code",
   "execution_count": 29,
   "metadata": {},
   "outputs": [
    {
     "data": {
      "text/plain": [
       "lead_creation_date     datetime64[ns]\n",
       "monthly_income                float64\n",
       "contacted                        bool\n",
       "source                       category\n",
       "source_category              category\n",
       "var1                         category\n",
       "female                           bool\n",
       "primary_bank_type_G              bool\n",
       "dtype: object"
      ]
     },
     "execution_count": 29,
     "metadata": {},
     "output_type": "execute_result"
    }
   ],
   "source": [
    "cols_nona = df.columns[(df.isnull().sum() == 0).values].tolist()\n",
    "cols_nona.remove('id')\n",
    "cols_nona.remove('y')\n",
    "df[cols_nona].dtypes"
   ]
  },
  {
   "cell_type": "markdown",
   "metadata": {},
   "source": [
    "## Group by"
   ]
  },
  {
   "cell_type": "code",
   "execution_count": 30,
   "metadata": {},
   "outputs": [
    {
     "data": {
      "text/plain": [
       "source_category\n",
       "A        3\n",
       "B    29812\n",
       "C    11374\n",
       "D      497\n",
       "E     1050\n",
       "F      459\n",
       "G    26518\n",
       "dtype: int64"
      ]
     },
     "execution_count": 30,
     "metadata": {},
     "output_type": "execute_result"
    }
   ],
   "source": [
    "# y by source_category\n",
    "df.groupby('source_category').size()"
   ]
  },
  {
   "cell_type": "code",
   "execution_count": 31,
   "metadata": {},
   "outputs": [
    {
     "name": "stdout",
     "output_type": "stream",
     "text": [
      "percent of y=1, by source_category\n",
      "A    0.000000\n",
      "D    0.000000\n",
      "C    1.230877\n",
      "F    1.307190\n",
      "G    1.372653\n",
      "E    1.428571\n",
      "B    1.660405\n",
      "Name: y, dtype: float64\n"
     ]
    }
   ],
   "source": [
    "tab1 = df.groupby('source_category').y.mean().sort_values()*100\n",
    "print(\"percent of y=1, by\", tab1)\n",
    "# conclusion: source_category D and A never convert in our training set"
   ]
  },
  {
   "cell_type": "code",
   "execution_count": 32,
   "metadata": {},
   "outputs": [
    {
     "data": {
      "text/plain": [
       "city_category\n",
       "C    0.803831\n",
       "B    1.338798\n",
       "A    1.655808\n",
       "Name: y, dtype: float64"
      ]
     },
     "execution_count": 32,
     "metadata": {},
     "output_type": "execute_result"
    }
   ],
   "source": [
    "df.groupby('city_category').y.mean().sort_values()*100"
   ]
  },
  {
   "cell_type": "markdown",
   "metadata": {},
   "source": [
    "This is the end of EDA."
   ]
  },
  {
   "cell_type": "markdown",
   "metadata": {},
   "source": [
    "# "
   ]
  }
 ],
 "metadata": {
  "kernelspec": {
   "display_name": "Python 3",
   "language": "python",
   "name": "python3"
  },
  "language_info": {
   "codemirror_mode": {
    "name": "ipython",
    "version": 3
   },
   "file_extension": ".py",
   "mimetype": "text/x-python",
   "name": "python",
   "nbconvert_exporter": "python",
   "pygments_lexer": "ipython3",
   "version": "3.6.3"
  }
 },
 "nbformat": 4,
 "nbformat_minor": 2
}
